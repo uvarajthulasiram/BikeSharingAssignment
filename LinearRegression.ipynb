{
 "cells": [
  {
   "cell_type": "markdown",
   "metadata": {},
   "source": [
    "# **Bike Demand Prediction using Multiple Linear Regression**"
   ]
  },
  {
   "cell_type": "markdown",
   "metadata": {},
   "source": [
    "## **1. Introduction**\n",
    "### **1.1. Problem Statement**\n",
    "- BoomBikes, a US-based bike-sharing provider, has faced significant revenue losses due to the COVID-19 pandemic. To recover and prepare for post-pandemic demand, the company seeks to understand the factors affecting bike demand in the American market. By identifying significant predictors of demand and analyzing their impact, BoomBikes aims to optimize business strategies, meet customer needs, and gain a competitive edge.\n",
    "\n",
    "- I am required to model the demand for shared bikes with the available independent variables. It will be used by the management to understand how exactly the demands vary with different features. They can accordingly manipulate the business strategy to meet the demand levels and meet the customer's expectations. Further, the model will be a good way for management to understand the demand dynamics of a new market. "
   ]
  },
  {
   "cell_type": "markdown",
   "metadata": {},
   "source": [
    "## **2. Data Understanding**\n",
    "### **2.1. Import necessary libraries**"
   ]
  },
  {
   "cell_type": "code",
   "execution_count": 5,
   "metadata": {},
   "outputs": [],
   "source": [
    "# Import required libraries\n",
    "\n",
    "import numpy as np\n",
    "import pandas as pd\n",
    "import matplotlib.pyplot as plt\n",
    "import seaborn as sns\n",
    "import warnings \n",
    "\n",
    "warnings.filterwarnings('ignore')\n",
    "\n",
    "# Pandas by default doesn't display all the columns in the dataframe\n",
    "# As we're going to work on a large dataset, the following setting will help read data from all the columns\n",
    "pd.set_option('display.max_columns', None)\n",
    "\n",
    "# Disable scientific notation\n",
    "pd.options.display.float_format = '{:,.2f}'.format\n",
    "\n",
    "# For some of the columns we may have to see the data from all rows\n",
    "# Eg: Categorical columns.\n",
    "pd.set_option('display.max_rows', None)\n",
    "\n",
    "# Set themes, styles and color palette for seaborn charts\n",
    "sns.set_theme(style='darkgrid', context='poster')\n",
    "sns.set_palette(palette='pastel', n_colors=10)\n",
    "\n",
    "plt.rcParams[\"figure.figsize\"] = (12, 4)\n",
    "plt.rcParams[\"axes.titlesize\"] = 14 \n",
    "plt.rcParams[\"axes.labelsize\"] = 12 \n",
    "plt.rcParams[\"xtick.labelsize\"] = 10 \n",
    "plt.rcParams[\"ytick.labelsize\"] = 10 \n"
   ]
  },
  {
   "cell_type": "markdown",
   "metadata": {},
   "source": [
    "### **2.2. Data Overview**"
   ]
  },
  {
   "cell_type": "code",
   "execution_count": 6,
   "metadata": {},
   "outputs": [
    {
     "data": {
      "text/plain": [
       "(730, 16)"
      ]
     },
     "execution_count": 6,
     "metadata": {},
     "output_type": "execute_result"
    }
   ],
   "source": [
    "# Load the data from day.csv file. \n",
    "# Using the read_csv function from the pandas library, we can load the data from the csv to a pandas dataframe.\n",
    "df = pd.read_csv('Data/day.csv')\n",
    "\n",
    "# Shape property of the pandas dataframe returns the dimention of the dataframe\n",
    "# The return value will contain the number of rows and columns in the dataframe\n",
    "df.shape\n",
    "\n",
    "# Quick observation\n",
    "#-------------------\n",
    "# 1. There are 730 rows and\n",
    "# 2. There are 16 columns\n",
    "#-------------------"
   ]
  }
 ],
 "metadata": {
  "kernelspec": {
   "display_name": "base",
   "language": "python",
   "name": "python3"
  },
  "language_info": {
   "codemirror_mode": {
    "name": "ipython",
    "version": 3
   },
   "file_extension": ".py",
   "mimetype": "text/x-python",
   "name": "python",
   "nbconvert_exporter": "python",
   "pygments_lexer": "ipython3",
   "version": "3.12.7"
  }
 },
 "nbformat": 4,
 "nbformat_minor": 2
}
